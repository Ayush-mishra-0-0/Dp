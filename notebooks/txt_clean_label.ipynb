{
 "cells": [
  {
   "cell_type": "code",
   "execution_count": null,
   "metadata": {},
   "outputs": [],
   "source": [
    "import pandas as pd\n",
    "import re\n",
    "import numpy as np \n",
    "import matplotlib.pyplot as plt \n",
    "from transformers import  pipeline, RobertaTokenizer, RobertaForSequenceClassification"
   ]
  },
  {
   "cell_type": "code",
   "execution_count": null,
   "metadata": {},
   "outputs": [],
   "source": [
    "df = pd.read_csv(r\"C:\\Users\\Ayush\\dark-patterns-recognition\\server\\data\\input.txt\", header=None, )"
   ]
  },
  {
   "cell_type": "code",
   "execution_count": null,
   "metadata": {},
   "outputs": [],
   "source": [
    "df.sample(5)"
   ]
  },
  {
   "cell_type": "code",
   "execution_count": null,
   "metadata": {},
   "outputs": [],
   "source": [
    "from transformers import RobertaTokenizer, RobertaForSequenceClassification\n",
    "from torch.nn.functional import softmax"
   ]
  },
  {
   "cell_type": "code",
   "execution_count": null,
   "metadata": {},
   "outputs": [],
   "source": [
    "model_path = r\"C:\\Users\\Ayush\\dark-patterns-recognition\\ayush-model\"\n",
    "model = RobertaForSequenceClassification.from_pretrained(model_path)"
   ]
  },
  {
   "cell_type": "code",
   "execution_count": null,
   "metadata": {},
   "outputs": [],
   "source": [
    "tokeniser_path = r\"C:\\Users\\Ayush\\dark-patterns-recognition\\ayush-token\"\n",
    "tokenizer = RobertaTokenizer.from_pretrained(tokeniser_path)"
   ]
  },
  {
   "cell_type": "code",
   "execution_count": null,
   "metadata": {},
   "outputs": [],
   "source": [
    "nlp = pipeline(\"sentiment-analysis\", model=model, tokenizer=tokenizer)"
   ]
  },
  {
   "cell_type": "code",
   "execution_count": null,
   "metadata": {},
   "outputs": [],
   "source": [
    "texts = [\n",
    "    \"Only 10 Left in Stock - Order Soon!\",\n",
    "    \"By clicking 'Accept All Cookies,' you agree to our terms and conditions without realizing it.\",\n",
    "    \"You can't unsubscribe from our newsletter.\",\n",
    "    \"You have to pay for shipping.\",\n",
    "    \"Hurry! Only 3 items left in stock. Buy now before they're gone!\",\n",
    "    \"To unsubscribe, please click this small text link hidden at the bottom of the email.\",\n",
    "    \"Join over 1 million satisfied customers who have already signed up for our premium service.\",\n",
    "    \"Exclusive offer! Limited time only: get 50% off your purchase, while supplies last.\",\n",
    "    \"To cancel your subscription, please call our customer service hotline, which is only available during business hours.\",\n",
    "    \"To access this content, you must first complete a survey or share this page on social media.\"\n",
    "]\n",
    "\n",
    "for text in texts:\n",
    "    result = nlp(text)\n",
    "    print(f\"Text: {text}\")\n",
    "    print(f\"Sentiment: {result[0]['label']} (confidence: {result[0]['score']:.2f})\")\n",
    "    print()"
   ]
  },
  {
   "cell_type": "code",
   "execution_count": null,
   "metadata": {},
   "outputs": [],
   "source": [
    "input_txt_path = r\"C:\\Users\\Ayush\\dark-patterns-recognition\\server\\data\\input.txt\"\n",
    "# Read texts from input.txt file\n",
    "with open(input_txt_path, \"r\") as file:\n",
    "    texts = file.readlines()\n",
    "\n",
    "# Perform sentiment analysis and create DataFrame\n",
    "results = []\n",
    "for text in texts:\n",
    "    result = nlp(text.strip())[0]\n",
    "    results.append({\"Text\": text.strip(), \"Sentiment Label\": result[\"label\"], \"Score\": result[\"score\"]})\n",
    "\n",
    "# Create DataFrame\n",
    "df = pd.DataFrame(results)"
   ]
  },
  {
   "cell_type": "code",
   "execution_count": null,
   "metadata": {},
   "outputs": [],
   "source": [
    "df.head()"
   ]
  },
  {
   "cell_type": "code",
   "execution_count": 31,
   "metadata": {},
   "outputs": [],
   "source": [
    "df.to_csv(r\"C:\\Users\\Ayush\\dark-patterns-recognition\\train_classifier\\output.csv\", index=False)"
   ]
  },
  {
   "cell_type": "code",
   "execution_count": 40,
   "metadata": {},
   "outputs": [],
   "source": [
    "df1= pd.read_csv(r\"C:\\Users\\Ayush\\dark-patterns-recognition\\train_classifier\\output.csv\")"
   ]
  },
  {
   "cell_type": "code",
   "execution_count": 41,
   "metadata": {},
   "outputs": [
    {
     "data": {
      "text/html": [
       "<div>\n",
       "<style scoped>\n",
       "    .dataframe tbody tr th:only-of-type {\n",
       "        vertical-align: middle;\n",
       "    }\n",
       "\n",
       "    .dataframe tbody tr th {\n",
       "        vertical-align: top;\n",
       "    }\n",
       "\n",
       "    .dataframe thead th {\n",
       "        text-align: right;\n",
       "    }\n",
       "</style>\n",
       "<table border=\"1\" class=\"dataframe\">\n",
       "  <thead>\n",
       "    <tr style=\"text-align: right;\">\n",
       "      <th></th>\n",
       "      <th>Text</th>\n",
       "      <th>Sentiment Label</th>\n",
       "    </tr>\n",
       "  </thead>\n",
       "  <tbody>\n",
       "    <tr>\n",
       "      <th>11</th>\n",
       "      <td>Click 'OK' to confirm you don't want to save m...</td>\n",
       "      <td>Misdirection</td>\n",
       "    </tr>\n",
       "    <tr>\n",
       "      <th>12</th>\n",
       "      <td>By continuing, you agree to our terms and cond...</td>\n",
       "      <td>Forced Action</td>\n",
       "    </tr>\n",
       "    <tr>\n",
       "      <th>13</th>\n",
       "      <td>Sign up for our newsletter to stay updated on ...</td>\n",
       "      <td>Not Dark Pattern</td>\n",
       "    </tr>\n",
       "    <tr>\n",
       "      <th>14</th>\n",
       "      <td>You're just one step away from accessing premi...</td>\n",
       "      <td>Not Dark Pattern</td>\n",
       "    </tr>\n",
       "    <tr>\n",
       "      <th>15</th>\n",
       "      <td>You have 10 new notifications! Click here to v...</td>\n",
       "      <td>Not Dark Pattern</td>\n",
       "    </tr>\n",
       "  </tbody>\n",
       "</table>\n",
       "</div>"
      ],
      "text/plain": [
       "                                                 Text   Sentiment Label\n",
       "11  Click 'OK' to confirm you don't want to save m...      Misdirection\n",
       "12  By continuing, you agree to our terms and cond...     Forced Action\n",
       "13  Sign up for our newsletter to stay updated on ...  Not Dark Pattern\n",
       "14  You're just one step away from accessing premi...  Not Dark Pattern\n",
       "15  You have 10 new notifications! Click here to v...  Not Dark Pattern"
      ]
     },
     "execution_count": 41,
     "metadata": {},
     "output_type": "execute_result"
    }
   ],
   "source": [
    "df1.tail()"
   ]
  },
  {
   "cell_type": "code",
   "execution_count": 42,
   "metadata": {},
   "outputs": [],
   "source": [
    "# if label is not dark pattern then add Forced action or obstruction one at a time\n",
    "import random\n",
    "def update_label(label):\n",
    "    if label == 'Not Dark Pattern':\n",
    "        return random.choice([\"Forced action\", \"Obstruction\"])\n",
    "    else:\n",
    "        return label\n",
    "\n",
    "# Apply the function to the \"Sentiment Label\" column\n",
    "df1['Sentiment Label'] = df1['Sentiment Label'].apply(update_label)\n"
   ]
  },
  {
   "cell_type": "code",
   "execution_count": 43,
   "metadata": {},
   "outputs": [
    {
     "data": {
      "text/html": [
       "<div>\n",
       "<style scoped>\n",
       "    .dataframe tbody tr th:only-of-type {\n",
       "        vertical-align: middle;\n",
       "    }\n",
       "\n",
       "    .dataframe tbody tr th {\n",
       "        vertical-align: top;\n",
       "    }\n",
       "\n",
       "    .dataframe thead th {\n",
       "        text-align: right;\n",
       "    }\n",
       "</style>\n",
       "<table border=\"1\" class=\"dataframe\">\n",
       "  <thead>\n",
       "    <tr style=\"text-align: right;\">\n",
       "      <th></th>\n",
       "      <th>Text</th>\n",
       "      <th>Sentiment Label</th>\n",
       "    </tr>\n",
       "  </thead>\n",
       "  <tbody>\n",
       "    <tr>\n",
       "      <th>11</th>\n",
       "      <td>Click 'OK' to confirm you don't want to save m...</td>\n",
       "      <td>Misdirection</td>\n",
       "    </tr>\n",
       "    <tr>\n",
       "      <th>12</th>\n",
       "      <td>By continuing, you agree to our terms and cond...</td>\n",
       "      <td>Forced Action</td>\n",
       "    </tr>\n",
       "    <tr>\n",
       "      <th>13</th>\n",
       "      <td>Sign up for our newsletter to stay updated on ...</td>\n",
       "      <td>Forced action</td>\n",
       "    </tr>\n",
       "    <tr>\n",
       "      <th>14</th>\n",
       "      <td>You're just one step away from accessing premi...</td>\n",
       "      <td>Forced action</td>\n",
       "    </tr>\n",
       "    <tr>\n",
       "      <th>15</th>\n",
       "      <td>You have 10 new notifications! Click here to v...</td>\n",
       "      <td>Obstruction</td>\n",
       "    </tr>\n",
       "  </tbody>\n",
       "</table>\n",
       "</div>"
      ],
      "text/plain": [
       "                                                 Text Sentiment Label\n",
       "11  Click 'OK' to confirm you don't want to save m...    Misdirection\n",
       "12  By continuing, you agree to our terms and cond...   Forced Action\n",
       "13  Sign up for our newsletter to stay updated on ...   Forced action\n",
       "14  You're just one step away from accessing premi...   Forced action\n",
       "15  You have 10 new notifications! Click here to v...     Obstruction"
      ]
     },
     "execution_count": 43,
     "metadata": {},
     "output_type": "execute_result"
    }
   ],
   "source": [
    "df1.tail()"
   ]
  },
  {
   "cell_type": "code",
   "execution_count": null,
   "metadata": {},
   "outputs": [],
   "source": []
  }
 ],
 "metadata": {
  "kernelspec": {
   "display_name": "ayush",
   "language": "python",
   "name": "python3"
  },
  "language_info": {
   "codemirror_mode": {
    "name": "ipython",
    "version": 3
   },
   "file_extension": ".py",
   "mimetype": "text/x-python",
   "name": "python",
   "nbconvert_exporter": "python",
   "pygments_lexer": "ipython3",
   "version": "3.10.13"
  }
 },
 "nbformat": 4,
 "nbformat_minor": 2
}
